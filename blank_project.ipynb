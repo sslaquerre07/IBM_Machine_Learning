{
 "cells": [
  {
   "cell_type": "markdown",
   "metadata": {},
   "source": [
    "<p style=\"text-align:center\">\n",
    "    <a href=\"https://skills.network/?utm_medium=Exinfluencer&utm_source=Exinfluencer&utm_content=000026UJ&utm_term=10006555&utm_id=NA-SkillsNetwork-Channel-SkillsNetworkCoursesIBMDeveloperSkillsNetworkML0101ENSkillsNetwork20718538-2022-01-01\">\n",
    "    <img src=\"https://cf-courses-data.s3.us.cloud-object-storage.appdomain.cloud/assets/logos/SN_web_lightmode.png\" width=\"200\" alt=\"Skills Network Logo\"  />\n",
    "    </a>\n",
    "</p>\n",
    "\n",
    "<h1 align=\"center\"><font size=\"5\">Supervised Machine Learning: Classification - Final Assignment</font></h1>"
   ]
  },
  {
   "cell_type": "markdown",
   "metadata": {},
   "source": [
    "## Importing required libraries"
   ]
  },
  {
   "cell_type": "code",
   "execution_count": 3,
   "metadata": {},
   "outputs": [],
   "source": [
    "import numpy as np\n",
    "import pandas as pd\n",
    "import matplotlib.pyplot as plt\n",
    "from sklearn.preprocessing import StandardScaler\n",
    "from sklearn.metrics import accuracy_score, precision_recall_fscore_support, confusion_matrix, ConfusionMatrixDisplay, precision_score, recall_score, roc_auc_score\n",
    "from sklearn.model_selection import GridSearchCV"
   ]
  },
  {
   "cell_type": "markdown",
   "metadata": {},
   "source": [
    "## Importing the dataset"
   ]
  },
  {
   "cell_type": "code",
   "execution_count": 4,
   "metadata": {},
   "outputs": [
    {
     "data": {
      "text/html": [
       "<div>\n",
       "<style scoped>\n",
       "    .dataframe tbody tr th:only-of-type {\n",
       "        vertical-align: middle;\n",
       "    }\n",
       "\n",
       "    .dataframe tbody tr th {\n",
       "        vertical-align: top;\n",
       "    }\n",
       "\n",
       "    .dataframe thead th {\n",
       "        text-align: right;\n",
       "    }\n",
       "</style>\n",
       "<table border=\"1\" class=\"dataframe\">\n",
       "  <thead>\n",
       "    <tr style=\"text-align: right;\">\n",
       "      <th></th>\n",
       "      <th>PLAYER NAME</th>\n",
       "      <th>Ball Speed</th>\n",
       "      <th>Driving Distance</th>\n",
       "      <th>Approaches from &gt; 100 yards</th>\n",
       "      <th>Eagles (Holes per)</th>\n",
       "      <th>Putts Per Round</th>\n",
       "      <th>Birdie Average</th>\n",
       "      <th>Proximity to Hole</th>\n",
       "      <th>FedexCup Regular Season Points</th>\n",
       "      <th>Average Distance of Putts made</th>\n",
       "      <th>...</th>\n",
       "      <th>Total Birdies</th>\n",
       "      <th>Total Eagles</th>\n",
       "      <th>Spin Rate</th>\n",
       "      <th>Top 10 Finishes</th>\n",
       "      <th>Sand Save Percentage</th>\n",
       "      <th>Scrambling</th>\n",
       "      <th>SG: Total</th>\n",
       "      <th>Smash Factor</th>\n",
       "      <th>Country</th>\n",
       "      <th>College</th>\n",
       "    </tr>\n",
       "  </thead>\n",
       "  <tbody>\n",
       "    <tr>\n",
       "      <th>0</th>\n",
       "      <td>A.J. McInerney (2018)</td>\n",
       "      <td>NaN</td>\n",
       "      <td>NaN</td>\n",
       "      <td>NaN</td>\n",
       "      <td>NaN</td>\n",
       "      <td>NaN</td>\n",
       "      <td>NaN</td>\n",
       "      <td>NaN</td>\n",
       "      <td>NaN</td>\n",
       "      <td>NaN</td>\n",
       "      <td>...</td>\n",
       "      <td>NaN</td>\n",
       "      <td>NaN</td>\n",
       "      <td>NaN</td>\n",
       "      <td>1.0</td>\n",
       "      <td>NaN</td>\n",
       "      <td>NaN</td>\n",
       "      <td>NaN</td>\n",
       "      <td>NaN</td>\n",
       "      <td>USA</td>\n",
       "      <td>University of Nevada-Las Vegas 2016, Finance</td>\n",
       "    </tr>\n",
       "    <tr>\n",
       "      <th>1</th>\n",
       "      <td>Aaron Wise (2017)</td>\n",
       "      <td>NaN</td>\n",
       "      <td>NaN</td>\n",
       "      <td>NaN</td>\n",
       "      <td>NaN</td>\n",
       "      <td>NaN</td>\n",
       "      <td>NaN</td>\n",
       "      <td>NaN</td>\n",
       "      <td>NaN</td>\n",
       "      <td>NaN</td>\n",
       "      <td>...</td>\n",
       "      <td>NaN</td>\n",
       "      <td>NaN</td>\n",
       "      <td>NaN</td>\n",
       "      <td>1.0</td>\n",
       "      <td>NaN</td>\n",
       "      <td>NaN</td>\n",
       "      <td>NaN</td>\n",
       "      <td>NaN</td>\n",
       "      <td>USA</td>\n",
       "      <td>University of Oregon</td>\n",
       "    </tr>\n",
       "    <tr>\n",
       "      <th>2</th>\n",
       "      <td>Aaron Wise (2018)</td>\n",
       "      <td>171.85</td>\n",
       "      <td>302.9</td>\n",
       "      <td>33' 5\"</td>\n",
       "      <td>264.0</td>\n",
       "      <td>29.15</td>\n",
       "      <td>4.11</td>\n",
       "      <td>36' 8\"</td>\n",
       "      <td>1086.0</td>\n",
       "      <td>79' 2\"</td>\n",
       "      <td>...</td>\n",
       "      <td>362.0</td>\n",
       "      <td>6.0</td>\n",
       "      <td>2580.3</td>\n",
       "      <td>4.0</td>\n",
       "      <td>47.92</td>\n",
       "      <td>56.28</td>\n",
       "      <td>0.703</td>\n",
       "      <td>1.502</td>\n",
       "      <td>USA</td>\n",
       "      <td>University of Oregon</td>\n",
       "    </tr>\n",
       "    <tr>\n",
       "      <th>3</th>\n",
       "      <td>Aaron Wise (2019)</td>\n",
       "      <td>174.29</td>\n",
       "      <td>302.6</td>\n",
       "      <td>33' 10\"</td>\n",
       "      <td>414.0</td>\n",
       "      <td>29.25</td>\n",
       "      <td>4.42</td>\n",
       "      <td>37' 5\"</td>\n",
       "      <td>400.0</td>\n",
       "      <td>72' 1\"</td>\n",
       "      <td>...</td>\n",
       "      <td>305.0</td>\n",
       "      <td>3.0</td>\n",
       "      <td>2331.3</td>\n",
       "      <td>1.0</td>\n",
       "      <td>48.19</td>\n",
       "      <td>52.05</td>\n",
       "      <td>0.329</td>\n",
       "      <td>1.495</td>\n",
       "      <td>USA</td>\n",
       "      <td>University of Oregon</td>\n",
       "    </tr>\n",
       "    <tr>\n",
       "      <th>4</th>\n",
       "      <td>Abraham Ancer (2016)</td>\n",
       "      <td>159.60</td>\n",
       "      <td>276.4</td>\n",
       "      <td>32' 4\"</td>\n",
       "      <td>864.0</td>\n",
       "      <td>29.06</td>\n",
       "      <td>3.33</td>\n",
       "      <td>34' 9\"</td>\n",
       "      <td>147.0</td>\n",
       "      <td>65' 4\"</td>\n",
       "      <td>...</td>\n",
       "      <td>160.0</td>\n",
       "      <td>1.0</td>\n",
       "      <td>2604.7</td>\n",
       "      <td>NaN</td>\n",
       "      <td>46.75</td>\n",
       "      <td>56.67</td>\n",
       "      <td>-0.727</td>\n",
       "      <td>1.493</td>\n",
       "      <td>MEX</td>\n",
       "      <td>University of Oklahoma 2013, Multi-Disciplinar...</td>\n",
       "    </tr>\n",
       "  </tbody>\n",
       "</table>\n",
       "<p>5 rows × 29 columns</p>\n",
       "</div>"
      ],
      "text/plain": [
       "             PLAYER NAME  Ball Speed  Driving Distance  \\\n",
       "0  A.J. McInerney (2018)         NaN               NaN   \n",
       "1      Aaron Wise (2017)         NaN               NaN   \n",
       "2      Aaron Wise (2018)      171.85             302.9   \n",
       "3      Aaron Wise (2019)      174.29             302.6   \n",
       "4   Abraham Ancer (2016)      159.60             276.4   \n",
       "\n",
       "  Approaches from > 100 yards  Eagles (Holes per)  Putts Per Round  \\\n",
       "0                         NaN                 NaN              NaN   \n",
       "1                         NaN                 NaN              NaN   \n",
       "2                      33' 5\"               264.0            29.15   \n",
       "3                     33' 10\"               414.0            29.25   \n",
       "4                      32' 4\"               864.0            29.06   \n",
       "\n",
       "   Birdie Average Proximity to Hole  FedexCup Regular Season Points  \\\n",
       "0             NaN               NaN                             NaN   \n",
       "1             NaN               NaN                             NaN   \n",
       "2            4.11            36' 8\"                          1086.0   \n",
       "3            4.42            37' 5\"                           400.0   \n",
       "4            3.33            34' 9\"                           147.0   \n",
       "\n",
       "  Average Distance of Putts made  ...  Total Birdies Total Eagles  Spin Rate  \\\n",
       "0                            NaN  ...            NaN          NaN        NaN   \n",
       "1                            NaN  ...            NaN          NaN        NaN   \n",
       "2                         79' 2\"  ...          362.0          6.0     2580.3   \n",
       "3                         72' 1\"  ...          305.0          3.0     2331.3   \n",
       "4                         65' 4\"  ...          160.0          1.0     2604.7   \n",
       "\n",
       "   Top 10 Finishes  Sand Save Percentage  Scrambling  SG: Total  Smash Factor  \\\n",
       "0              1.0                   NaN         NaN        NaN           NaN   \n",
       "1              1.0                   NaN         NaN        NaN           NaN   \n",
       "2              4.0                 47.92       56.28      0.703         1.502   \n",
       "3              1.0                 48.19       52.05      0.329         1.495   \n",
       "4              NaN                 46.75       56.67     -0.727         1.493   \n",
       "\n",
       "   Country                                            College  \n",
       "0      USA       University of Nevada-Las Vegas 2016, Finance  \n",
       "1      USA                               University of Oregon  \n",
       "2      USA                               University of Oregon  \n",
       "3      USA                               University of Oregon  \n",
       "4      MEX  University of Oklahoma 2013, Multi-Disciplinar...  \n",
       "\n",
       "[5 rows x 29 columns]"
      ]
     },
     "execution_count": 4,
     "metadata": {},
     "output_type": "execute_result"
    }
   ],
   "source": []
  },
  {
   "cell_type": "markdown",
   "metadata": {},
   "source": [
    "# 1. About the Data"
   ]
  },
  {
   "cell_type": "markdown",
   "metadata": {},
   "source": [
    "## Dataset Summary\n"
   ]
  },
  {
   "cell_type": "markdown",
   "metadata": {},
   "source": [
    "## Objective of the Analysis\n"
   ]
  },
  {
   "cell_type": "markdown",
   "metadata": {},
   "source": [
    "## Data Cleaning and Feature Engineering"
   ]
  },
  {
   "cell_type": "markdown",
   "metadata": {},
   "source": [
    "# 2. Model Construction & Testing"
   ]
  },
  {
   "cell_type": "markdown",
   "metadata": {},
   "source": [
    "## Scaling Features"
   ]
  },
  {
   "cell_type": "markdown",
   "metadata": {},
   "source": [
    "## Summary of the models"
   ]
  },
  {
   "cell_type": "markdown",
   "metadata": {},
   "source": [
    "## Final Prediction:\n"
   ]
  },
  {
   "cell_type": "markdown",
   "metadata": {},
   "source": [
    "## Summary Key Findings"
   ]
  },
  {
   "cell_type": "markdown",
   "metadata": {},
   "source": [
    "## Next Steps"
   ]
  }
 ],
 "metadata": {
  "kernelspec": {
   "display_name": "venv",
   "language": "python",
   "name": "python3"
  },
  "language_info": {
   "codemirror_mode": {
    "name": "ipython",
    "version": 3
   },
   "file_extension": ".py",
   "mimetype": "text/x-python",
   "name": "python",
   "nbconvert_exporter": "python",
   "pygments_lexer": "ipython3",
   "version": "3.12.2"
  }
 },
 "nbformat": 4,
 "nbformat_minor": 2
}
