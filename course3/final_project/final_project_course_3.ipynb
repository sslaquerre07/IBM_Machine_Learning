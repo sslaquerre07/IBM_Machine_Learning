{
 "cells": [
  {
   "cell_type": "markdown",
   "metadata": {},
   "source": [
    "<p style=\"text-align:center\">\n",
    "    <a href=\"https://skills.network/?utm_medium=Exinfluencer&utm_source=Exinfluencer&utm_content=000026UJ&utm_term=10006555&utm_id=NA-SkillsNetwork-Channel-SkillsNetworkCoursesIBMDeveloperSkillsNetworkML0101ENSkillsNetwork20718538-2022-01-01\">\n",
    "    <img src=\"https://cf-courses-data.s3.us.cloud-object-storage.appdomain.cloud/assets/logos/SN_web_lightmode.png\" width=\"200\" alt=\"Skills Network Logo\"  />\n",
    "    </a>\n",
    "</p>\n",
    "\n",
    "<h1 align=\"center\"><font size=\"5\">Supervised Machine Learning: Classification - Final Assignment</font></h1>"
   ]
  },
  {
   "cell_type": "markdown",
   "metadata": {},
   "source": [
    "## Importing required libraries"
   ]
  },
  {
   "cell_type": "code",
   "execution_count": 127,
   "metadata": {},
   "outputs": [],
   "source": [
    "import numpy as np\n",
    "import pandas as pd\n",
    "from sklearn.preprocessing import StandardScaler\n",
    "from sklearn.metrics import classification_report, accuracy_score, precision_recall_fscore_support, confusion_matrix, ConfusionMatrixDisplay, precision_score, recall_score, roc_auc_score\n",
    "from sklearn.model_selection import GridSearchCV, train_test_split\n",
    "from sklearn.linear_model import LogisticRegression\n",
    "from sklearn.neighbors import KNeighborsClassifier\n",
    "from sklearn.svm import LinearSVC, SVC\n",
    "from sklearn.tree import DecisionTreeClassifier\n",
    "from sklearn.ensemble import BaggingClassifier, RandomForestClassifier, GradientBoostingClassifier, AdaBoostClassifier, VotingClassifier\n",
    "from sklearn.inspection import permutation_importance, PartialDependenceDisplay\n",
    "import lime.lime_tabular\n",
    "from imblearn.over_sampling import RandomOverSampler, SMOTE\n",
    "from imblearn.under_sampling import RandomUnderSampler"
   ]
  },
  {
   "cell_type": "markdown",
   "metadata": {},
   "source": [
    "## Importing the dataset"
   ]
  },
  {
   "cell_type": "code",
   "execution_count": 128,
   "metadata": {},
   "outputs": [
    {
     "data": {
      "text/html": [
       "<div>\n",
       "<style scoped>\n",
       "    .dataframe tbody tr th:only-of-type {\n",
       "        vertical-align: middle;\n",
       "    }\n",
       "\n",
       "    .dataframe tbody tr th {\n",
       "        vertical-align: top;\n",
       "    }\n",
       "\n",
       "    .dataframe thead th {\n",
       "        text-align: right;\n",
       "    }\n",
       "</style>\n",
       "<table border=\"1\" class=\"dataframe\">\n",
       "  <thead>\n",
       "    <tr style=\"text-align: right;\">\n",
       "      <th></th>\n",
       "      <th>PLAYER NAME</th>\n",
       "      <th>Ball Speed</th>\n",
       "      <th>Driving Distance</th>\n",
       "      <th>Approaches from &gt; 100 yards</th>\n",
       "      <th>Eagles (Holes per)</th>\n",
       "      <th>Putts Per Round</th>\n",
       "      <th>Birdie Average</th>\n",
       "      <th>Proximity to Hole</th>\n",
       "      <th>FedexCup Regular Season Points</th>\n",
       "      <th>Average Distance of Putts made</th>\n",
       "      <th>...</th>\n",
       "      <th>Total Birdies</th>\n",
       "      <th>Total Eagles</th>\n",
       "      <th>Spin Rate</th>\n",
       "      <th>Top 10 Finishes</th>\n",
       "      <th>Sand Save Percentage</th>\n",
       "      <th>Scrambling</th>\n",
       "      <th>SG: Total</th>\n",
       "      <th>Smash Factor</th>\n",
       "      <th>Country</th>\n",
       "      <th>College</th>\n",
       "    </tr>\n",
       "  </thead>\n",
       "  <tbody>\n",
       "    <tr>\n",
       "      <th>0</th>\n",
       "      <td>A.J. McInerney (2018)</td>\n",
       "      <td>NaN</td>\n",
       "      <td>NaN</td>\n",
       "      <td>NaN</td>\n",
       "      <td>NaN</td>\n",
       "      <td>NaN</td>\n",
       "      <td>NaN</td>\n",
       "      <td>NaN</td>\n",
       "      <td>NaN</td>\n",
       "      <td>NaN</td>\n",
       "      <td>...</td>\n",
       "      <td>NaN</td>\n",
       "      <td>NaN</td>\n",
       "      <td>NaN</td>\n",
       "      <td>1.0</td>\n",
       "      <td>NaN</td>\n",
       "      <td>NaN</td>\n",
       "      <td>NaN</td>\n",
       "      <td>NaN</td>\n",
       "      <td>USA</td>\n",
       "      <td>University of Nevada-Las Vegas 2016, Finance</td>\n",
       "    </tr>\n",
       "    <tr>\n",
       "      <th>1</th>\n",
       "      <td>Aaron Wise (2017)</td>\n",
       "      <td>NaN</td>\n",
       "      <td>NaN</td>\n",
       "      <td>NaN</td>\n",
       "      <td>NaN</td>\n",
       "      <td>NaN</td>\n",
       "      <td>NaN</td>\n",
       "      <td>NaN</td>\n",
       "      <td>NaN</td>\n",
       "      <td>NaN</td>\n",
       "      <td>...</td>\n",
       "      <td>NaN</td>\n",
       "      <td>NaN</td>\n",
       "      <td>NaN</td>\n",
       "      <td>1.0</td>\n",
       "      <td>NaN</td>\n",
       "      <td>NaN</td>\n",
       "      <td>NaN</td>\n",
       "      <td>NaN</td>\n",
       "      <td>USA</td>\n",
       "      <td>University of Oregon</td>\n",
       "    </tr>\n",
       "    <tr>\n",
       "      <th>2</th>\n",
       "      <td>Aaron Wise (2018)</td>\n",
       "      <td>171.85</td>\n",
       "      <td>302.9</td>\n",
       "      <td>33' 5\"</td>\n",
       "      <td>264.0</td>\n",
       "      <td>29.15</td>\n",
       "      <td>4.11</td>\n",
       "      <td>36' 8\"</td>\n",
       "      <td>1086.0</td>\n",
       "      <td>79' 2\"</td>\n",
       "      <td>...</td>\n",
       "      <td>362.0</td>\n",
       "      <td>6.0</td>\n",
       "      <td>2580.3</td>\n",
       "      <td>4.0</td>\n",
       "      <td>47.92</td>\n",
       "      <td>56.28</td>\n",
       "      <td>0.703</td>\n",
       "      <td>1.502</td>\n",
       "      <td>USA</td>\n",
       "      <td>University of Oregon</td>\n",
       "    </tr>\n",
       "    <tr>\n",
       "      <th>3</th>\n",
       "      <td>Aaron Wise (2019)</td>\n",
       "      <td>174.29</td>\n",
       "      <td>302.6</td>\n",
       "      <td>33' 10\"</td>\n",
       "      <td>414.0</td>\n",
       "      <td>29.25</td>\n",
       "      <td>4.42</td>\n",
       "      <td>37' 5\"</td>\n",
       "      <td>400.0</td>\n",
       "      <td>72' 1\"</td>\n",
       "      <td>...</td>\n",
       "      <td>305.0</td>\n",
       "      <td>3.0</td>\n",
       "      <td>2331.3</td>\n",
       "      <td>1.0</td>\n",
       "      <td>48.19</td>\n",
       "      <td>52.05</td>\n",
       "      <td>0.329</td>\n",
       "      <td>1.495</td>\n",
       "      <td>USA</td>\n",
       "      <td>University of Oregon</td>\n",
       "    </tr>\n",
       "    <tr>\n",
       "      <th>4</th>\n",
       "      <td>Abraham Ancer (2016)</td>\n",
       "      <td>159.60</td>\n",
       "      <td>276.4</td>\n",
       "      <td>32' 4\"</td>\n",
       "      <td>864.0</td>\n",
       "      <td>29.06</td>\n",
       "      <td>3.33</td>\n",
       "      <td>34' 9\"</td>\n",
       "      <td>147.0</td>\n",
       "      <td>65' 4\"</td>\n",
       "      <td>...</td>\n",
       "      <td>160.0</td>\n",
       "      <td>1.0</td>\n",
       "      <td>2604.7</td>\n",
       "      <td>NaN</td>\n",
       "      <td>46.75</td>\n",
       "      <td>56.67</td>\n",
       "      <td>-0.727</td>\n",
       "      <td>1.493</td>\n",
       "      <td>MEX</td>\n",
       "      <td>University of Oklahoma 2013, Multi-Disciplinar...</td>\n",
       "    </tr>\n",
       "  </tbody>\n",
       "</table>\n",
       "<p>5 rows × 29 columns</p>\n",
       "</div>"
      ],
      "text/plain": [
       "             PLAYER NAME  Ball Speed  Driving Distance  \\\n",
       "0  A.J. McInerney (2018)         NaN               NaN   \n",
       "1      Aaron Wise (2017)         NaN               NaN   \n",
       "2      Aaron Wise (2018)      171.85             302.9   \n",
       "3      Aaron Wise (2019)      174.29             302.6   \n",
       "4   Abraham Ancer (2016)      159.60             276.4   \n",
       "\n",
       "  Approaches from > 100 yards  Eagles (Holes per)  Putts Per Round  \\\n",
       "0                         NaN                 NaN              NaN   \n",
       "1                         NaN                 NaN              NaN   \n",
       "2                      33' 5\"               264.0            29.15   \n",
       "3                     33' 10\"               414.0            29.25   \n",
       "4                      32' 4\"               864.0            29.06   \n",
       "\n",
       "   Birdie Average Proximity to Hole  FedexCup Regular Season Points  \\\n",
       "0             NaN               NaN                             NaN   \n",
       "1             NaN               NaN                             NaN   \n",
       "2            4.11            36' 8\"                          1086.0   \n",
       "3            4.42            37' 5\"                           400.0   \n",
       "4            3.33            34' 9\"                           147.0   \n",
       "\n",
       "  Average Distance of Putts made  ...  Total Birdies Total Eagles  Spin Rate  \\\n",
       "0                            NaN  ...            NaN          NaN        NaN   \n",
       "1                            NaN  ...            NaN          NaN        NaN   \n",
       "2                         79' 2\"  ...          362.0          6.0     2580.3   \n",
       "3                         72' 1\"  ...          305.0          3.0     2331.3   \n",
       "4                         65' 4\"  ...          160.0          1.0     2604.7   \n",
       "\n",
       "   Top 10 Finishes  Sand Save Percentage  Scrambling  SG: Total  Smash Factor  \\\n",
       "0              1.0                   NaN         NaN        NaN           NaN   \n",
       "1              1.0                   NaN         NaN        NaN           NaN   \n",
       "2              4.0                 47.92       56.28      0.703         1.502   \n",
       "3              1.0                 48.19       52.05      0.329         1.495   \n",
       "4              NaN                 46.75       56.67     -0.727         1.493   \n",
       "\n",
       "   Country                                            College  \n",
       "0      USA       University of Nevada-Las Vegas 2016, Finance  \n",
       "1      USA                               University of Oregon  \n",
       "2      USA                               University of Oregon  \n",
       "3      USA                               University of Oregon  \n",
       "4      MEX  University of Oklahoma 2013, Multi-Disciplinar...  \n",
       "\n",
       "[5 rows x 29 columns]"
      ]
     },
     "execution_count": 128,
     "metadata": {},
     "output_type": "execute_result"
    }
   ],
   "source": [
    "filepath = \"data/pgafulldata.csv\"\n",
    "data = pd.read_csv(filepath, encoding='latin1')\n",
    "data.head()"
   ]
  },
  {
   "cell_type": "markdown",
   "metadata": {},
   "source": [
    "# 1. About the Data"
   ]
  },
  {
   "cell_type": "markdown",
   "metadata": {},
   "source": [
    "## Dataset Summary\n",
    "This dataset contains the statistics for the top 200 PGA Tour players from 2015-2019. The original dataset comprises of 29 columns with stats about every aspect of their game, including driving distance, putts per round, proximity to the hole, and many more.\n",
    "<br><br>\n",
    "The primary purpose of this analysis is to determine what factors led to these players either having or not having a top ten finish in the year that the statistics were collected."
   ]
  },
  {
   "cell_type": "markdown",
   "metadata": {},
   "source": [
    "## Objective of the Analysis\n",
    "In this analysis of PGA Tour data, the model to be constructed will mostly focus on interpretation. While the model will try and predict whether or not a player will have a top ten finish, there is more interest on the features that drive those predictions. This will tell us the aspects of the golf game that most directly lead high finishes."
   ]
  },
  {
   "cell_type": "markdown",
   "metadata": {},
   "source": [
    "## Data Cleaning and Feature Engineering\n",
    "Below are listed all of the actions taken to clean the data and implement new features:\n",
    "- Any distance related metric that was measured in feet and inches was converted to a decimal in feet\n",
    "- This dataset included a lot superfluous statistics that do not relate to performance, so any of those are removed\n",
    "- If a player did not record a top ten finish, the column was labeled NAN, so that was changed to 0\n",
    "- A new column (our target column) was created to indicate if a player had a top ten finish or not (0 if they didn't, 1 if they did)\n",
    "- Many rows had almost all null values, so any rows with a null value were discarded."
   ]
  },
  {
   "cell_type": "code",
   "execution_count": 129,
   "metadata": {},
   "outputs": [],
   "source": [
    "#Replace any NAN values with 0 for top ten finishes column\n",
    "def no_top_ten_replacer(value):\n",
    "    if pd.isna(value):\n",
    "        return 0\n",
    "    else:\n",
    "        return value\n",
    "    \n",
    "#Determines if a player has a top ten finish or not\n",
    "def top_ten_bool(value):\n",
    "    if value:\n",
    "        return 1\n",
    "    else:\n",
    "        return 0\n",
    "\n",
    "#Seperating the name column into a name and year column\n",
    "def obj_to_int(obj):\n",
    "    if pd.isna(obj):\n",
    "        return None\n",
    "    \n",
    "    return int(obj)\n",
    "\n",
    "data['Player Name'] = data['PLAYER NAME'].str.extract(r'^(.*) \\(\\d{4}\\)$')\n",
    "data['Year'] = data['PLAYER NAME'].str.extract(r'\\((\\d{4})\\)')\n",
    "data['Year'] = data['Year'].apply(obj_to_int)\n",
    "\n",
    "#Function to convert distance to a decimal\n",
    "def feet_inches_string_to_decimal(ft_inches_str):\n",
    "    if pd.isna(ft_inches_str) or ft_inches_str.strip == \"\":\n",
    "        return None\n",
    "    \n",
    "    clean_str = ft_inches_str.replace(\"'\", \"\")\n",
    "    clean_str = clean_str.replace(\"\\\"\", \"\")\n",
    "    parts = clean_str.split(\" \")\n",
    "    if len(parts) != 2:\n",
    "        return None\n",
    "    \n",
    "    height = 0\n",
    "    height += int(parts[0]) + float(int(parts[1])/12)\n",
    "    return height\n",
    "\n",
    "#Convert all feet and inches columns to decimals using the function above\n",
    "data['Decimal Approach from > 100 Yards (Feet)'] = data['Approaches from > 100 yards'].apply(feet_inches_string_to_decimal)\n",
    "data['Average Distance Putts Made (Feet)'] = data['Average Distance of Putts made'].apply(feet_inches_string_to_decimal)\n",
    "data['Decimal Proximity to Hole (Feet)'] = data['Proximity to Hole'].apply(feet_inches_string_to_decimal)\n",
    "data['Top 10 Finishes'] = data['Top 10 Finishes'].apply(no_top_ten_replacer)\n",
    "\n",
    "#Create the target column, top ten finish (T10?)\n",
    "data['T10?'] = data['Top 10 Finishes'].apply(top_ten_bool)\n",
    "\n",
    "#Removing all unecessary columns\n",
    "data.drop(columns=['Eagles (Holes per)', 'FedexCup Regular Season Points', 'Official Money',\n",
    "                   'Total Birdies', 'Total Eagles', 'Country', 'College', 'Top 10 Finishes',\n",
    "                   'PLAYER NAME', 'Approaches from > 100 yards', 'Average Distance of Putts made',\n",
    "                   'Proximity to Hole', 'Player Name', 'Year'], inplace=True)\n",
    "\n",
    "#Finally, removing any rows with null values, as there are many rows that are have little to no data\n",
    "data = data.dropna()"
   ]
  },
  {
   "cell_type": "markdown",
   "metadata": {},
   "source": [
    "# 2. Model Construction & Testing"
   ]
  },
  {
   "cell_type": "code",
   "execution_count": 130,
   "metadata": {},
   "outputs": [],
   "source": [
    "def precision_scores(y_test, preds):\n",
    "    accuracy = accuracy_score(y_test, preds)\n",
    "    precision, recall, fbeta, support = precision_recall_fscore_support(y_test, preds, beta=5, pos_label=1, average='binary')\n",
    "    auc = roc_auc_score(y_test, preds)\n",
    "    print(f\"Accuracy is: {accuracy:.2f}\")\n",
    "    print(f\"Precision is: {precision:.2f}\")\n",
    "    print(f\"Recall is: {recall:.2f}\")\n",
    "    print(f\"Fscore is: {fbeta:.2f}\")\n",
    "    print(f\"AUC is: {auc:.2f}\")"
   ]
  },
  {
   "cell_type": "markdown",
   "metadata": {},
   "source": [
    "## Data Split"
   ]
  },
  {
   "cell_type": "code",
   "execution_count": 131,
   "metadata": {},
   "outputs": [],
   "source": [
    "X = data.drop(columns='T10?')\n",
    "y = data['T10?']\n",
    "\n",
    "X_train, X_test, y_train, y_test = train_test_split(X, y, test_size=0.3)"
   ]
  },
  {
   "cell_type": "markdown",
   "metadata": {},
   "source": [
    "## Scaling Features"
   ]
  },
  {
   "cell_type": "markdown",
   "metadata": {},
   "source": [
    "For many classification models, scaling is crucial to identify decision boundaries between classes. Therefore, scaling is applied below in order for the models to perform optimally"
   ]
  },
  {
   "cell_type": "code",
   "execution_count": 132,
   "metadata": {},
   "outputs": [
    {
     "data": {
      "text/html": [
       "<div>\n",
       "<style scoped>\n",
       "    .dataframe tbody tr th:only-of-type {\n",
       "        vertical-align: middle;\n",
       "    }\n",
       "\n",
       "    .dataframe tbody tr th {\n",
       "        vertical-align: top;\n",
       "    }\n",
       "\n",
       "    .dataframe thead th {\n",
       "        text-align: right;\n",
       "    }\n",
       "</style>\n",
       "<table border=\"1\" class=\"dataframe\">\n",
       "  <thead>\n",
       "    <tr style=\"text-align: right;\">\n",
       "      <th></th>\n",
       "      <th>Ball Speed</th>\n",
       "      <th>Driving Distance</th>\n",
       "      <th>Putts Per Round</th>\n",
       "      <th>Birdie Average</th>\n",
       "      <th>GIR Percentage from Fairway</th>\n",
       "      <th>Bogey Average</th>\n",
       "      <th>Par 3 Scoring Average</th>\n",
       "      <th>Club Head Speed</th>\n",
       "      <th>Par 4 Scoring Average</th>\n",
       "      <th>Par 5 Scoring Average</th>\n",
       "      <th>Driving Accuracy Percentage</th>\n",
       "      <th>Scoring Average</th>\n",
       "      <th>Spin Rate</th>\n",
       "      <th>Sand Save Percentage</th>\n",
       "      <th>Scrambling</th>\n",
       "      <th>SG: Total</th>\n",
       "      <th>Smash Factor</th>\n",
       "      <th>Decimal Approach from &gt; 100 Yards (Feet)</th>\n",
       "      <th>Average Distance Putts Made (Feet)</th>\n",
       "      <th>Decimal Proximity to Hole (Feet)</th>\n",
       "    </tr>\n",
       "  </thead>\n",
       "  <tbody>\n",
       "    <tr>\n",
       "      <th>0</th>\n",
       "      <td>0.427479</td>\n",
       "      <td>1.065380</td>\n",
       "      <td>0.151280</td>\n",
       "      <td>1.595539</td>\n",
       "      <td>1.671750</td>\n",
       "      <td>0.198506</td>\n",
       "      <td>0.095696</td>\n",
       "      <td>0.125518</td>\n",
       "      <td>-0.986152</td>\n",
       "      <td>-0.343162</td>\n",
       "      <td>0.362434</td>\n",
       "      <td>-0.989217</td>\n",
       "      <td>-0.078835</td>\n",
       "      <td>-0.388669</td>\n",
       "      <td>-0.769352</td>\n",
       "      <td>0.778216</td>\n",
       "      <td>1.080796</td>\n",
       "      <td>0.470195</td>\n",
       "      <td>1.569196</td>\n",
       "      <td>0.451328</td>\n",
       "    </tr>\n",
       "    <tr>\n",
       "      <th>1</th>\n",
       "      <td>0.822495</td>\n",
       "      <td>1.032727</td>\n",
       "      <td>0.354674</td>\n",
       "      <td>2.604599</td>\n",
       "      <td>1.151096</td>\n",
       "      <td>0.236132</td>\n",
       "      <td>-1.069065</td>\n",
       "      <td>0.626891</td>\n",
       "      <td>0.070041</td>\n",
       "      <td>-1.622385</td>\n",
       "      <td>0.056275</td>\n",
       "      <td>-0.296735</td>\n",
       "      <td>-1.269121</td>\n",
       "      <td>-0.343114</td>\n",
       "      <td>-2.054290</td>\n",
       "      <td>0.241928</td>\n",
       "      <td>0.600012</td>\n",
       "      <td>0.732957</td>\n",
       "      <td>-0.220288</td>\n",
       "      <td>0.919951</td>\n",
       "    </tr>\n",
       "    <tr>\n",
       "      <th>2</th>\n",
       "      <td>-1.555692</td>\n",
       "      <td>-1.818914</td>\n",
       "      <td>-0.031774</td>\n",
       "      <td>-0.943386</td>\n",
       "      <td>-2.702448</td>\n",
       "      <td>1.778785</td>\n",
       "      <td>0.561601</td>\n",
       "      <td>-1.610718</td>\n",
       "      <td>0.862186</td>\n",
       "      <td>2.073149</td>\n",
       "      <td>0.767415</td>\n",
       "      <td>1.670928</td>\n",
       "      <td>0.037804</td>\n",
       "      <td>-0.586076</td>\n",
       "      <td>-0.650883</td>\n",
       "      <td>-1.272298</td>\n",
       "      <td>0.462646</td>\n",
       "      <td>-0.212985</td>\n",
       "      <td>-1.925561</td>\n",
       "      <td>-0.746265</td>\n",
       "    </tr>\n",
       "    <tr>\n",
       "      <th>3</th>\n",
       "      <td>-0.265417</td>\n",
       "      <td>0.325259</td>\n",
       "      <td>-0.336865</td>\n",
       "      <td>0.065674</td>\n",
       "      <td>-0.439199</td>\n",
       "      <td>-0.742135</td>\n",
       "      <td>0.095696</td>\n",
       "      <td>-0.461739</td>\n",
       "      <td>-0.722104</td>\n",
       "      <td>-0.343162</td>\n",
       "      <td>0.422503</td>\n",
       "      <td>-0.409333</td>\n",
       "      <td>0.014859</td>\n",
       "      <td>0.657420</td>\n",
       "      <td>1.177799</td>\n",
       "      <td>0.229022</td>\n",
       "      <td>0.806063</td>\n",
       "      <td>0.207434</td>\n",
       "      <td>-0.620290</td>\n",
       "      <td>-0.329711</td>\n",
       "    </tr>\n",
       "    <tr>\n",
       "      <th>4</th>\n",
       "      <td>-0.166663</td>\n",
       "      <td>0.020504</td>\n",
       "      <td>-0.540258</td>\n",
       "      <td>0.879432</td>\n",
       "      <td>-0.818178</td>\n",
       "      <td>-0.742135</td>\n",
       "      <td>0.095696</td>\n",
       "      <td>-0.417636</td>\n",
       "      <td>-1.514248</td>\n",
       "      <td>-0.485297</td>\n",
       "      <td>1.695578</td>\n",
       "      <td>-0.520525</td>\n",
       "      <td>0.775399</td>\n",
       "      <td>-0.608011</td>\n",
       "      <td>0.962124</td>\n",
       "      <td>0.508638</td>\n",
       "      <td>1.012113</td>\n",
       "      <td>-0.580851</td>\n",
       "      <td>-0.409763</td>\n",
       "      <td>-0.850404</td>\n",
       "    </tr>\n",
       "  </tbody>\n",
       "</table>\n",
       "</div>"
      ],
      "text/plain": [
       "   Ball Speed  Driving Distance  Putts Per Round  Birdie Average  \\\n",
       "0    0.427479          1.065380         0.151280        1.595539   \n",
       "1    0.822495          1.032727         0.354674        2.604599   \n",
       "2   -1.555692         -1.818914        -0.031774       -0.943386   \n",
       "3   -0.265417          0.325259        -0.336865        0.065674   \n",
       "4   -0.166663          0.020504        -0.540258        0.879432   \n",
       "\n",
       "   GIR Percentage from Fairway  Bogey Average  Par 3 Scoring Average  \\\n",
       "0                     1.671750       0.198506               0.095696   \n",
       "1                     1.151096       0.236132              -1.069065   \n",
       "2                    -2.702448       1.778785               0.561601   \n",
       "3                    -0.439199      -0.742135               0.095696   \n",
       "4                    -0.818178      -0.742135               0.095696   \n",
       "\n",
       "   Club Head Speed  Par 4 Scoring Average  Par 5 Scoring Average  \\\n",
       "0         0.125518              -0.986152              -0.343162   \n",
       "1         0.626891               0.070041              -1.622385   \n",
       "2        -1.610718               0.862186               2.073149   \n",
       "3        -0.461739              -0.722104              -0.343162   \n",
       "4        -0.417636              -1.514248              -0.485297   \n",
       "\n",
       "   Driving Accuracy Percentage  Scoring Average  Spin Rate  \\\n",
       "0                     0.362434        -0.989217  -0.078835   \n",
       "1                     0.056275        -0.296735  -1.269121   \n",
       "2                     0.767415         1.670928   0.037804   \n",
       "3                     0.422503        -0.409333   0.014859   \n",
       "4                     1.695578        -0.520525   0.775399   \n",
       "\n",
       "   Sand Save Percentage  Scrambling  SG: Total  Smash Factor  \\\n",
       "0             -0.388669   -0.769352   0.778216      1.080796   \n",
       "1             -0.343114   -2.054290   0.241928      0.600012   \n",
       "2             -0.586076   -0.650883  -1.272298      0.462646   \n",
       "3              0.657420    1.177799   0.229022      0.806063   \n",
       "4             -0.608011    0.962124   0.508638      1.012113   \n",
       "\n",
       "   Decimal Approach from > 100 Yards (Feet)  \\\n",
       "0                                  0.470195   \n",
       "1                                  0.732957   \n",
       "2                                 -0.212985   \n",
       "3                                  0.207434   \n",
       "4                                 -0.580851   \n",
       "\n",
       "   Average Distance Putts Made (Feet)  Decimal Proximity to Hole (Feet)  \n",
       "0                            1.569196                          0.451328  \n",
       "1                           -0.220288                          0.919951  \n",
       "2                           -1.925561                         -0.746265  \n",
       "3                           -0.620290                         -0.329711  \n",
       "4                           -0.409763                         -0.850404  "
      ]
     },
     "execution_count": 132,
     "metadata": {},
     "output_type": "execute_result"
    }
   ],
   "source": [
    "ss = StandardScaler()\n",
    "ss = ss.fit(X)\n",
    "X_scaled = ss.fit_transform(X)\n",
    "X = pd.DataFrame(X_scaled, columns=X.columns)\n",
    "X.head()"
   ]
  },
  {
   "cell_type": "markdown",
   "metadata": {},
   "source": [
    "## Important Note:\n",
    "All classifiers will have their hyperparameters tuned on GridSearchCV, and the best estimator will be trained on a control X/y train/test sets and metrics will be evaluated from there."
   ]
  },
  {
   "cell_type": "markdown",
   "metadata": {},
   "source": [
    "## Logistic Regression Model (Coefficient based)"
   ]
  },
  {
   "cell_type": "code",
   "execution_count": 133,
   "metadata": {},
   "outputs": [
    {
     "name": "stdout",
     "output_type": "stream",
     "text": [
      "Accuracy is: 0.88\n",
      "Precision is: 0.91\n",
      "Recall is: 0.95\n",
      "Fscore is: 0.95\n",
      "AUC is: 0.65\n",
      "None\n",
      "{'C': np.float64(1.0), 'max_iter': 1000}\n"
     ]
    },
    {
     "name": "stderr",
     "output_type": "stream",
     "text": [
      "c:\\GitHub\\IBM_Machine_Learning\\venv\\Lib\\site-packages\\sklearn\\linear_model\\_logistic.py:469: ConvergenceWarning: lbfgs failed to converge (status=1):\n",
      "STOP: TOTAL NO. of ITERATIONS REACHED LIMIT.\n",
      "\n",
      "Increase the number of iterations (max_iter) or scale the data as shown in:\n",
      "    https://scikit-learn.org/stable/modules/preprocessing.html\n",
      "Please also refer to the documentation for alternative solver options:\n",
      "    https://scikit-learn.org/stable/modules/linear_model.html#logistic-regression\n",
      "  n_iter_i = _check_optimize_result(\n"
     ]
    }
   ],
   "source": [
    "lr_model = LogisticRegression(penalty='l2')\n",
    "param_grid = {'C': np.geomspace(1, 1e5, 6),\n",
    "              'max_iter': [1000, 2000, 3000]}\n",
    "\n",
    "grid_lr = GridSearchCV(estimator=lr_model, \n",
    "                       param_grid=param_grid,\n",
    "                       scoring='roc_auc')\n",
    "grid_lr = grid_lr.fit(X, y)\n",
    "\n",
    "#Best model metrics calculation\n",
    "best_lr = grid_lr.best_estimator_\n",
    "best_lr = best_lr.fit(X_train, y_train)\n",
    "y_pred = best_lr.predict(X_test)\n",
    "print(precision_scores(y_test, y_pred))\n",
    "print(grid_lr.best_params_)"
   ]
  },
  {
   "cell_type": "markdown",
   "metadata": {},
   "source": [
    "## Decision Tree Model"
   ]
  },
  {
   "cell_type": "code",
   "execution_count": 134,
   "metadata": {},
   "outputs": [
    {
     "name": "stdout",
     "output_type": "stream",
     "text": [
      "Accuracy is: 0.87\n",
      "Precision is: 0.87\n",
      "Recall is: 1.00\n",
      "Fscore is: 0.99\n",
      "AUC is: 0.50\n",
      "None\n",
      "{'criterion': 'gini', 'max_depth': 4, 'min_samples_leaf': 2}\n"
     ]
    }
   ],
   "source": [
    "dt_model = DecisionTreeClassifier()\n",
    "param_grid = {'criterion': ['gini', 'entropy'],\n",
    "              'max_depth': [5*x-1 for x in range(1,22,5)],\n",
    "              'min_samples_leaf': [1,2,5]}\n",
    "grid_dt = GridSearchCV(estimator=dt_model, \n",
    "                       param_grid=param_grid,\n",
    "                       scoring='roc_auc')\n",
    "grid_dt = grid_dt.fit(X, y)\n",
    "best_dt = grid_dt.best_estimator_\n",
    "y_pred = best_dt.predict(X_test)\n",
    "print(precision_scores(y_test, y_pred))\n",
    "print(grid_dt.best_params_)"
   ]
  },
  {
   "cell_type": "markdown",
   "metadata": {},
   "source": [
    "While both of these models are fairly good, there are some changes that might make them perform even better"
   ]
  },
  {
   "cell_type": "markdown",
   "metadata": {},
   "source": [
    "## Class Weighting on Logistic Regression\n",
    "While the previous logistic regression did perform well, the classes were unbalanced. Therefore, this new model will add the class weight parameter to see how it enhances performace"
   ]
  },
  {
   "cell_type": "code",
   "execution_count": 135,
   "metadata": {},
   "outputs": [
    {
     "data": {
      "text/plain": [
       "T10?\n",
       "1    0.829812\n",
       "0    0.170188\n",
       "Name: proportion, dtype: float64"
      ]
     },
     "execution_count": 135,
     "metadata": {},
     "output_type": "execute_result"
    }
   ],
   "source": [
    "# Getting an idea of how unbalanced the classes are (should be about an 80/20 split)\n",
    "data['T10?'].value_counts(normalize=True)"
   ]
  },
  {
   "cell_type": "code",
   "execution_count": 141,
   "metadata": {},
   "outputs": [
    {
     "name": "stdout",
     "output_type": "stream",
     "text": [
      "Accuracy is: 0.78\n",
      "Precision is: 0.94\n",
      "Recall is: 0.80\n",
      "Fscore is: 0.81\n",
      "AUC is: 0.72\n"
     ]
    },
    {
     "name": "stderr",
     "output_type": "stream",
     "text": [
      "c:\\GitHub\\IBM_Machine_Learning\\venv\\Lib\\site-packages\\sklearn\\linear_model\\_logistic.py:469: ConvergenceWarning: lbfgs failed to converge (status=1):\n",
      "STOP: TOTAL NO. of ITERATIONS REACHED LIMIT.\n",
      "\n",
      "Increase the number of iterations (max_iter) or scale the data as shown in:\n",
      "    https://scikit-learn.org/stable/modules/preprocessing.html\n",
      "Please also refer to the documentation for alternative solver options:\n",
      "    https://scikit-learn.org/stable/modules/linear_model.html#logistic-regression\n",
      "  n_iter_i = _check_optimize_result(\n"
     ]
    }
   ],
   "source": [
    "#Tune the class_weight parameter\n",
    "best_lr_weighted = best_lr\n",
    "best_lr_weighted.class_weights_ = {0:0.8, 1:0.2}\n",
    "best_lr_weighted = best_lr_weighted.fit(X_train, y_train)\n",
    "precision_scores(y_test, best_lr_weighted.predict(X_test))"
   ]
  },
  {
   "cell_type": "markdown",
   "metadata": {},
   "source": [
    "## Ensemble Methods on the Decision Tree (Random Forest)"
   ]
  },
  {
   "cell_type": "code",
   "execution_count": 145,
   "metadata": {},
   "outputs": [
    {
     "name": "stdout",
     "output_type": "stream",
     "text": [
      "Accuracy is: 0.89\n",
      "Precision is: 0.90\n",
      "Recall is: 0.97\n",
      "Fscore is: 0.97\n",
      "AUC is: 0.65\n",
      "None\n",
      "{'n_estimators': 40}\n"
     ]
    }
   ],
   "source": [
    "rf_model = RandomForestClassifier(max_depth=4, criterion='gini', min_samples_leaf=2)\n",
    "param_grid = {'n_estimators': [x for x in range(20, 120, 20)]}\n",
    "grid_rf = GridSearchCV(estimator=rf_model,\n",
    "                       param_grid=param_grid,\n",
    "                       scoring='roc_auc')\n",
    "grid_rf = grid_rf.fit(X,y)\n",
    "best_rf = grid_rf.best_estimator_\n",
    "best_rf = best_rf.fit(X_train, y_train)\n",
    "print(precision_scores(y_test, best_rf.predict(X_test)))\n",
    "print(grid_rf.best_params_)"
   ]
  }
 ],
 "metadata": {
  "kernelspec": {
   "display_name": "venv",
   "language": "python",
   "name": "python3"
  },
  "language_info": {
   "codemirror_mode": {
    "name": "ipython",
    "version": 3
   },
   "file_extension": ".py",
   "mimetype": "text/x-python",
   "name": "python",
   "nbconvert_exporter": "python",
   "pygments_lexer": "ipython3",
   "version": "3.12.2"
  }
 },
 "nbformat": 4,
 "nbformat_minor": 2
}
